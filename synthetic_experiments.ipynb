{
 "cells": [
  {
   "cell_type": "code",
   "execution_count": null,
   "id": "9c507829",
   "metadata": {},
   "outputs": [],
   "source": [
    "import numpy as np\n",
    "import pandas as pd\n",
    "\n",
    "\n",
    "import estimation, utils, experiments, vset, plots, dgp, experiments\n",
    "from bounds import *\n",
    "from vset import *"
   ]
  },
  {
   "cell_type": "markdown",
   "id": "cc1feb6b",
   "metadata": {},
   "source": [
    "## Finite sample coverage experiment (Exp 4)"
   ]
  },
  {
   "cell_type": "code",
   "execution_count": null,
   "id": "36e47ced",
   "metadata": {},
   "outputs": [],
   "source": [
    "Dx, Du = 5, 2\n",
    "nD = Dx+Du\n",
    "\n",
    "dgp = {\n",
    "    'N': 20000,\n",
    "    'Dx': Dx,\n",
    "    'Du': Du,\n",
    "    'nz': 10,                # Number of finite pre-treatment values\n",
    "    'beta_zy': 0,            # Z -> Y loading (=0 ==> exclusion restriction is satisfied)\n",
    "    'e1_coeffs': 4*np.random.rand(nD) - 2,\n",
    "    'z_coeffs':  4*np.random.rand(nD) - 2,\n",
    "    'mu1_coeffs': 4*np.random.rand(nD) - 1,\n",
    "    'mu0_coeffs': 4*np.random.rand(nD) - 2,\n",
    "    't_coeffs': 4*np.random.rand(nD) - 3,\n",
    "    'lambda': 1.9,\n",
    "    'model': 'LR'\n",
    "}\n",
    "\n",
    "msm_dgp = set_dgp_config(dgp, 'MSM')\n",
    "Ns = [100, 300, 600, 900, 1200, 1500, msm_dgp['N']-1]\n",
    "coveragedf = experiments.estimation_coverage_experiment(msm_dgp, Ns, Nsims=10)\n",
    "\n",
    "ns_data = experiments.get_est_exp_metadata(coveragedf, Ns)\n",
    "ns_data = ns_data[ns_data['metric'] == 'm_u']\n",
    "plots.plot_sample_size_exp(ns_data, coveragedf, 'pl_estimation.pdf')\n"
   ]
  },
  {
   "cell_type": "markdown",
   "id": "5015ab16",
   "metadata": {},
   "source": [
    "## Experiment: Exclusion restriction violation tests"
   ]
  },
  {
   "cell_type": "code",
   "execution_count": null,
   "id": "9eca0dd1",
   "metadata": {},
   "outputs": [],
   "source": [
    "lambdas = np.arange(1, 2.6, .1)\n",
    "Dx, Du = 5, 2\n",
    "nD = Dx+Du\n",
    "\n",
    "dgp = {\n",
    "    'N': 20000,\n",
    "    'Dx': Dx,\n",
    "    'Du': Du,\n",
    "    'nz': 10,                # Number of finite pre-treatment values\n",
    "    'beta_zy': 0,            # Z -> Y loading (=0 ==> exclusion restriction is satisfied)\n",
    "    'e1_coeffs': 4*np.random.rand(nD) - 2,\n",
    "    'z_coeffs':  4*np.random.rand(nD) - 2,\n",
    "    'mu1_coeffs': 4*np.random.rand(nD) - 1,\n",
    "    'mu0_coeffs': 4*np.random.rand(nD) - 2,\n",
    "    't_coeffs': 4*np.random.rand(nD) - 3,\n",
    "    'lambda_star': 1.7,\n",
    "    'id_assumption': 'IV',\n",
    "    'model': 'LR'\n",
    "}\n",
    "\n",
    "dgp = set_dgp_config(dgp, 'IV')\n",
    "dgp['beta_zd'] = 1.25\n",
    "beta_zy = [0, 0.05, 0.1, 0.15, 0.2, 0.25, 0.3, 0.35, 0.4, 0.45, .5, .55, .6]\n",
    "# bedf = experiments.exclusion_sensitivity_experiment(dgp, beta_zy, n_sims=20, est_method='plugin', K=5)\n",
    "\n",
    "bedf = pd.read_csv('results/iv_exclusion_df_GB_K5_N20.csv')\n",
    "plots.plot_exclusion_sensitivity(bedf, 'figs/exclusion_sensitivity.pdf')"
   ]
  },
  {
   "cell_type": "markdown",
   "id": "27f2ea26",
   "metadata": {},
   "source": [
    "## Experiment: Relevance violation tests"
   ]
  },
  {
   "cell_type": "code",
   "execution_count": null,
   "id": "90f63b58",
   "metadata": {},
   "outputs": [],
   "source": [
    "lambdas = np.arange(1, 2.6, .1)\n",
    "Dx, Du = 5, 2\n",
    "nD = Dx+Du\n",
    "\n",
    "dgp = {\n",
    "    'N': 20000,\n",
    "    'Dx': Dx,\n",
    "    'Du': Du,\n",
    "    'nz': 10,                # Number of finite pre-treatment values\n",
    "    'beta_zy': 0,            # Z -> Y loading (=0 ==> exclusion restriction is satisfied)\n",
    "    'e1_coeffs': 4*np.random.rand(nD) - 2,\n",
    "    'z_coeffs':  4*np.random.rand(nD) - 2,\n",
    "    'mu1_coeffs': 4*np.random.rand(nD) - 1,\n",
    "    'mu0_coeffs': 4*np.random.rand(nD) - 2,\n",
    "    't_coeffs': 4*np.random.rand(nD) - 3,\n",
    "    'lambda': 1.5,\n",
    "    'lambda_star': 1.7,\n",
    "    'id_assumption': 'IV',\n",
    "    'model': 'LR'\n",
    "}\n",
    "\n",
    "iv_dgp = set_dgp_config(dgp, 'IV')\n",
    "beta_zd = [0, .2, .4, 0.6, 0.8, 1, 1.2, 1.4, 1.6, 1.8, 2]\n",
    "brdf = experiments.relevance_sensitivity_experiment(iv_dgp, beta_zd, n_sims=10)\n",
    "plots.plot_relevance_sensitivity(brdf, 'figs/relevance_iv.pdf')"
   ]
  },
  {
   "cell_type": "markdown",
   "id": "0b124cfa",
   "metadata": {},
   "source": [
    "## Experiment: MSM coverage tests"
   ]
  },
  {
   "cell_type": "code",
   "execution_count": null,
   "id": "00e85dbe",
   "metadata": {},
   "outputs": [],
   "source": [
    "Nsims = 10\n",
    "Dx, Du = 5, 2\n",
    "nD = Dx+Du\n",
    "\n",
    "dgp = {\n",
    "    'N': 10000,\n",
    "    'Dx': Dx,\n",
    "    'Du': Du,\n",
    "    'nz': 10,                # Number of finite pre-treatment values\n",
    "    'beta_zy': 0,            # Z -> Y loading (=0 ==> exclusion restriction is satisfied)\n",
    "    'e1_coeffs': 4*np.random.rand(nD) - 2,\n",
    "    'z_coeffs':  4*np.random.rand(nD) - 2,\n",
    "    'mu1_coeffs': 4*np.random.rand(nD) - 1,\n",
    "    'mu0_coeffs': 4*np.random.rand(nD) - 2,\n",
    "    't_coeffs': 4*np.random.rand(nD) - 3,\n",
    "    'lambda': 1.4,\n",
    "    'id_assumption': 'MSM',\n",
    "    'model': 'LR'\n",
    "}\n",
    "\n",
    "msm_dgp = set_dgp_config(dgp, 'MSM')\n",
    "lambda_star = [0, .2, .4, 0.6, 0.8, 1, 1.2, 1.4, 1.6, 1.8, 2, 2.2, 2.4]\n",
    "brdf = experiments.msm_sensitivity_experiment(msm_dgp, lambda_star, n_sims=10)\n",
    "plots.plot_msm_sensitivity(msm_dgp, brdf, path='figs/msm_assumption.pdf')\n"
   ]
  },
  {
   "cell_type": "markdown",
   "id": "85c587f5",
   "metadata": {},
   "source": [
    "## Experiment: Design sensitivity (Fig 9) "
   ]
  },
  {
   "cell_type": "code",
   "execution_count": null,
   "id": "61711918",
   "metadata": {},
   "outputs": [],
   "source": [
    "Dx, Du = 5, 2\n",
    "nD = Dx+Du\n",
    "\n",
    "\n",
    "dgp = {\n",
    "    'N': 10000,\n",
    "    'Dx': Dx,\n",
    "    'Du': Du,\n",
    "    'nz': 10,                # Number of finite pre-treatment values\n",
    "    'beta_zy': 0,            # Z -> Y loading (=0 ==> exclusion restriction is satisfied)\n",
    "    'e1_coeffs': 4*np.random.rand(nD) - 2,\n",
    "    'z_coeffs':  4*np.random.rand(nD) - 2,\n",
    "    'mu1_coeffs': 4*np.random.rand(nD) - 1,\n",
    "    'mu0_coeffs': 4*np.random.rand(nD) - 2,\n",
    "    't_coeffs': 4*np.random.rand(nD) - 3,\n",
    "    'lambda': 1.5,\n",
    "    'lambda_star': 1.1,\n",
    "    'uniform_pi': True,\n",
    "    'model': 'LR'\n",
    "}\n",
    "\n",
    "msm_dgp = set_dgp_config(dgp, 'MSM')\n",
    "data = generate_data(msm_dgp)\n",
    "\n",
    "lambdas = np.arange(1, 3.2, .1)\n",
    "brdf = experiments.design_sensitivity_exp(dgp, data, lambdas, n_sims=10)\n",
    "plots.plot_design_sensitivity(brdf, 'figs/design_sensitivity.pdf')"
   ]
  }
 ],
 "metadata": {
  "kernelspec": {
   "display_name": "Python 3 (ipykernel)",
   "language": "python",
   "name": "python3"
  },
  "language_info": {
   "codemirror_mode": {
    "name": "ipython",
    "version": 3
   },
   "file_extension": ".py",
   "mimetype": "text/x-python",
   "name": "python",
   "nbconvert_exporter": "python",
   "pygments_lexer": "ipython3",
   "version": "3.9.16"
  }
 },
 "nbformat": 4,
 "nbformat_minor": 5
}
